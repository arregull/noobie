{
 "cells": [
  {
   "cell_type": "code",
   "execution_count": 1,
   "metadata": {},
   "outputs": [],
   "source": [
    "import numpy as np\n",
    "import pandas as pd\n",
    "from bs4 import BeautifulSoup\n",
    "import requests\n",
    "%matplotlib inline"
   ]
  },
  {
   "cell_type": "code",
   "execution_count": 40,
   "metadata": {},
   "outputs": [
    {
     "name": "stdout",
     "output_type": "stream",
     "text": [
      "Enter a date with the format YYYY-MM-DD: 1998-06-07\n"
     ]
    }
   ],
   "source": [
    "date = input('Enter a date with the format YYYY-MM-DD: ')"
   ]
  },
  {
   "cell_type": "code",
   "execution_count": 41,
   "metadata": {},
   "outputs": [
    {
     "data": {
      "text/plain": [
       "'1998-06-07'"
      ]
     },
     "execution_count": 41,
     "metadata": {},
     "output_type": "execute_result"
    }
   ],
   "source": [
    "date"
   ]
  },
  {
   "cell_type": "code",
   "execution_count": 42,
   "metadata": {},
   "outputs": [
    {
     "data": {
      "text/plain": [
       "'https://www.billboard.com/charts/hot-100/1998-06-07'"
      ]
     },
     "execution_count": 42,
     "metadata": {},
     "output_type": "execute_result"
    }
   ],
   "source": [
    "'https://www.billboard.com/charts/hot-100/'+date"
   ]
  },
  {
   "cell_type": "code",
   "execution_count": 43,
   "metadata": {},
   "outputs": [],
   "source": [
    "req = requests.get('https://www.billboard.com/charts/hot-100/'+date)"
   ]
  },
  {
   "cell_type": "code",
   "execution_count": 44,
   "metadata": {},
   "outputs": [],
   "source": [
    "soup = BeautifulSoup(req.text,'lxml')"
   ]
  },
  {
   "cell_type": "code",
   "execution_count": 45,
   "metadata": {},
   "outputs": [
    {
     "data": {
      "text/plain": [
       "'Steady'"
      ]
     },
     "execution_count": 45,
     "metadata": {},
     "output_type": "execute_result"
    }
   ],
   "source": [
    "soup.find('ol',{'class':'chart-list__elements'}).find_all('button')[0].find_all('span',{'class':'chart-element__rank flex--column flex--xy-center flex--no-shrink'})[0].text.split('\\n')[2]"
   ]
  },
  {
   "cell_type": "code",
   "execution_count": 46,
   "metadata": {},
   "outputs": [],
   "source": [
    "singles = [span.find_all('span',{'class':'chart-element__information__song text--truncate color--primary'})[0].text for span in soup.find('ol',{'class':'chart-list__elements'}).find_all('button')]"
   ]
  },
  {
   "cell_type": "code",
   "execution_count": 47,
   "metadata": {},
   "outputs": [],
   "source": [
    "current_rank = [rank.find_all('span',{'class':'chart-element__rank__number'})[0].text for rank in soup.find('ol',{'class':'chart-list__elements'}).find_all('button')]"
   ]
  },
  {
   "cell_type": "code",
   "execution_count": 48,
   "metadata": {},
   "outputs": [],
   "source": [
    "last_week = [last.find_all('span',{'class':'chart-element__meta text--center color--secondary text--last'})[0].text for last in soup.find('ol',{'class':'chart-list__elements'}).find_all('button')]"
   ]
  },
  {
   "cell_type": "code",
   "execution_count": 49,
   "metadata": {},
   "outputs": [],
   "source": [
    "peak_rank = [peak.find_all('span',{'class':'chart-element__meta text--center color--secondary text--peak'})[0].text for peak in soup.find('ol',{'class':'chart-list__elements'}).find_all('button')]"
   ]
  },
  {
   "cell_type": "code",
   "execution_count": 50,
   "metadata": {},
   "outputs": [],
   "source": [
    "artists = [name.find_all('span',{'class':'chart-element__information__artist text--truncate color--secondary'})[0].text for name in soup.find('ol',{'class':'chart-list__elements'}).find_all('button')]"
   ]
  },
  {
   "cell_type": "code",
   "execution_count": 51,
   "metadata": {},
   "outputs": [],
   "source": [
    "duration = [nweek.find_all('span',{'class':'chart-element__meta text--center color--secondary text--week'})[0].text for nweek in soup.find('ol',{'class':'chart-list__elements'}).find_all('button')]"
   ]
  },
  {
   "cell_type": "code",
   "execution_count": 52,
   "metadata": {},
   "outputs": [],
   "source": [
    "current_status = [status.find_all('span',{'class':'chart-element__rank flex--column flex--xy-center flex--no-shrink'})[0].text.split('\\n')[2] for status in soup.find('ol',{'class':'chart-list__elements'}).find_all('button')]"
   ]
  },
  {
   "cell_type": "code",
   "execution_count": 53,
   "metadata": {},
   "outputs": [],
   "source": [
    "zipped_results = zip(current_rank,singles,artists,current_status,last_week,peak_rank,duration)"
   ]
  },
  {
   "cell_type": "code",
   "execution_count": 54,
   "metadata": {},
   "outputs": [],
   "source": [
    "bb100 = pd.DataFrame(zipped_results,columns=['Rank','Single','Artist','Status','Last Week','Peak','Duration']).set_index('Rank')"
   ]
  },
  {
   "cell_type": "code",
   "execution_count": 55,
   "metadata": {},
   "outputs": [
    {
     "data": {
      "text/html": [
       "<div>\n",
       "<style scoped>\n",
       "    .dataframe tbody tr th:only-of-type {\n",
       "        vertical-align: middle;\n",
       "    }\n",
       "\n",
       "    .dataframe tbody tr th {\n",
       "        vertical-align: top;\n",
       "    }\n",
       "\n",
       "    .dataframe thead th {\n",
       "        text-align: right;\n",
       "    }\n",
       "</style>\n",
       "<table border=\"1\" class=\"dataframe\">\n",
       "  <thead>\n",
       "    <tr style=\"text-align: right;\">\n",
       "      <th></th>\n",
       "      <th>Single</th>\n",
       "      <th>Artist</th>\n",
       "      <th>Status</th>\n",
       "      <th>Last Week</th>\n",
       "      <th>Peak</th>\n",
       "      <th>Duration</th>\n",
       "    </tr>\n",
       "    <tr>\n",
       "      <th>Rank</th>\n",
       "      <th></th>\n",
       "      <th></th>\n",
       "      <th></th>\n",
       "      <th></th>\n",
       "      <th></th>\n",
       "      <th></th>\n",
       "    </tr>\n",
       "  </thead>\n",
       "  <tbody>\n",
       "    <tr>\n",
       "      <th>1</th>\n",
       "      <td>The Boy Is Mine</td>\n",
       "      <td>Brandy &amp; Monica</td>\n",
       "      <td>Steady</td>\n",
       "      <td>1</td>\n",
       "      <td>1</td>\n",
       "      <td>3</td>\n",
       "    </tr>\n",
       "    <tr>\n",
       "      <th>2</th>\n",
       "      <td>Too Close</td>\n",
       "      <td>Next</td>\n",
       "      <td>Steady</td>\n",
       "      <td>2</td>\n",
       "      <td>1</td>\n",
       "      <td>18</td>\n",
       "    </tr>\n",
       "    <tr>\n",
       "      <th>3</th>\n",
       "      <td>You're Still The One</td>\n",
       "      <td>Shania Twain</td>\n",
       "      <td>Steady</td>\n",
       "      <td>3</td>\n",
       "      <td>2</td>\n",
       "      <td>18</td>\n",
       "    </tr>\n",
       "    <tr>\n",
       "      <th>4</th>\n",
       "      <td>My All</td>\n",
       "      <td>Mariah Carey</td>\n",
       "      <td>Steady</td>\n",
       "      <td>4</td>\n",
       "      <td>1</td>\n",
       "      <td>6</td>\n",
       "    </tr>\n",
       "    <tr>\n",
       "      <th>5</th>\n",
       "      <td>I Get Lonely</td>\n",
       "      <td>Janet Featuring BLACKstreet</td>\n",
       "      <td>Steady</td>\n",
       "      <td>5</td>\n",
       "      <td>3</td>\n",
       "      <td>4</td>\n",
       "    </tr>\n",
       "    <tr>\n",
       "      <th>6</th>\n",
       "      <td>Everybody [Backstreet's Back]</td>\n",
       "      <td>Backstreet Boys</td>\n",
       "      <td>Steady</td>\n",
       "      <td>6</td>\n",
       "      <td>4</td>\n",
       "      <td>9</td>\n",
       "    </tr>\n",
       "    <tr>\n",
       "      <th>7</th>\n",
       "      <td>All My Life</td>\n",
       "      <td>K-Ci &amp; JoJo</td>\n",
       "      <td>Rising</td>\n",
       "      <td>8</td>\n",
       "      <td>1</td>\n",
       "      <td>12</td>\n",
       "    </tr>\n",
       "    <tr>\n",
       "      <th>8</th>\n",
       "      <td>Truly Madly Deeply</td>\n",
       "      <td>Savage Garden</td>\n",
       "      <td>Rising</td>\n",
       "      <td>9</td>\n",
       "      <td>1</td>\n",
       "      <td>28</td>\n",
       "    </tr>\n",
       "    <tr>\n",
       "      <th>9</th>\n",
       "      <td>The Arms Of The One Who Loves You</td>\n",
       "      <td>Xscape</td>\n",
       "      <td>Failing</td>\n",
       "      <td>7</td>\n",
       "      <td>7</td>\n",
       "      <td>7</td>\n",
       "    </tr>\n",
       "    <tr>\n",
       "      <th>10</th>\n",
       "      <td>Sex And Candy</td>\n",
       "      <td>Marcy Playground</td>\n",
       "      <td>Rising</td>\n",
       "      <td>11</td>\n",
       "      <td>8</td>\n",
       "      <td>10</td>\n",
       "    </tr>\n",
       "  </tbody>\n",
       "</table>\n",
       "</div>"
      ],
      "text/plain": [
       "                                 Single                       Artist   Status  \\\n",
       "Rank                                                                            \n",
       "1                       The Boy Is Mine              Brandy & Monica   Steady   \n",
       "2                             Too Close                         Next   Steady   \n",
       "3                  You're Still The One                 Shania Twain   Steady   \n",
       "4                                My All                 Mariah Carey   Steady   \n",
       "5                          I Get Lonely  Janet Featuring BLACKstreet   Steady   \n",
       "6         Everybody [Backstreet's Back]              Backstreet Boys   Steady   \n",
       "7                           All My Life                  K-Ci & JoJo   Rising   \n",
       "8                    Truly Madly Deeply                Savage Garden   Rising   \n",
       "9     The Arms Of The One Who Loves You                       Xscape  Failing   \n",
       "10                        Sex And Candy             Marcy Playground   Rising   \n",
       "\n",
       "     Last Week Peak Duration  \n",
       "Rank                          \n",
       "1            1    1        3  \n",
       "2            2    1       18  \n",
       "3            3    2       18  \n",
       "4            4    1        6  \n",
       "5            5    3        4  \n",
       "6            6    4        9  \n",
       "7            8    1       12  \n",
       "8            9    1       28  \n",
       "9            7    7        7  \n",
       "10          11    8       10  "
      ]
     },
     "execution_count": 55,
     "metadata": {},
     "output_type": "execute_result"
    }
   ],
   "source": [
    "bb100.head(10)"
   ]
  },
  {
   "cell_type": "code",
   "execution_count": 56,
   "metadata": {},
   "outputs": [
    {
     "data": {
      "text/plain": [
       "<matplotlib.axes._subplots.AxesSubplot at 0x197f1a76a48>"
      ]
     },
     "execution_count": 56,
     "metadata": {},
     "output_type": "execute_result"
    },
    {
     "data": {
      "image/png": "[encoded data removed]",
      "text/plain": [
       "<Figure size 432x288 with 1 Axes>"
      ]
     },
     "metadata": {
      "needs_background": "light"
     },
     "output_type": "display_data"
    }
   ],
   "source": [
    "bb100['Artist'].value_counts().head(10).plot.bar()"
   ]
  },
  {
   "cell_type": "code",
   "execution_count": 57,
   "metadata": {},
   "outputs": [
    {
     "data": {
      "text/plain": [
       "<matplotlib.axes._subplots.AxesSubplot at 0x197f1aecb48>"
      ]
     },
     "execution_count": 57,
     "metadata": {},
     "output_type": "execute_result"
    },
    {
     "data": {
      "image/png": "[encoded data removed]",
      "text/plain": [
       "<Figure size 432x288 with 1 Axes>"
      ]
     },
     "metadata": {
      "needs_background": "light"
     },
     "output_type": "display_data"
    }
   ],
   "source": [
    "(bb100['Status'].value_counts()).plot.bar()"
   ]
  },
  {
   "cell_type": "code",
   "execution_count": 58,
   "metadata": {},
   "outputs": [
    {
     "data": {
      "text/plain": [
       "<matplotlib.axes._subplots.AxesSubplot at 0x197f1b739c8>"
      ]
     },
     "execution_count": 58,
     "metadata": {},
     "output_type": "execute_result"
    },
    {
     "data": {
      "image/png": "[encoded data removed]",
      "text/plain": [
       "<Figure size 432x288 with 1 Axes>"
      ]
     },
     "metadata": {
      "needs_background": "light"
     },
     "output_type": "display_data"
    }
   ],
   "source": [
    "(bb100['Duration'].value_counts()).head(10).plot.bar()"
   ]
  },
  {
   "cell_type": "markdown",
   "metadata": {},
   "source": [
    "# Final Code"
   ]
  },
  {
   "cell_type": "code",
   "execution_count": 7,
   "metadata": {},
   "outputs": [],
   "source": [
    "import numpy as np\n",
    "import pandas as pd\n",
    "from bs4 import BeautifulSoup\n",
    "import requests\n",
    "%matplotlib inline\n",
    "\n",
    "def billboardhot100():\n",
    "    date = input('Enter a date with the format YYYY-MM-DD ---**If recent chart, just hit enter without a date: ')\n",
    "    req = requests.get('https://www.billboard.com/charts/hot-100/'+date)\n",
    "    soup = BeautifulSoup(req.text,'lxml')\n",
    "    singles = [span.find_all('span',{'class':'chart-element__information__song text--truncate color--primary'})[0].text for span in soup.find('ol',{'class':'chart-list__elements'}).find_all('button')]\n",
    "    current_rank = [rank.find_all('span',{'class':'chart-element__rank__number'})[0].text for rank in soup.find('ol',{'class':'chart-list__elements'}).find_all('button')]\n",
    "    last_week = [last.find_all('span',{'class':'chart-element__meta text--center color--secondary text--last'})[0].text for last in soup.find('ol',{'class':'chart-list__elements'}).find_all('button')]\n",
    "    peak_rank = [peak.find_all('span',{'class':'chart-element__meta text--center color--secondary text--peak'})[0].text for peak in soup.find('ol',{'class':'chart-list__elements'}).find_all('button')]\n",
    "    artists = [name.find_all('span',{'class':'chart-element__information__artist text--truncate color--secondary'})[0].text for name in soup.find('ol',{'class':'chart-list__elements'}).find_all('button')]\n",
    "    duration = [nweek.find_all('span',{'class':'chart-element__meta text--center color--secondary text--week'})[0].text for nweek in soup.find('ol',{'class':'chart-list__elements'}).find_all('button')]\n",
    "    current_status = [status.find_all('span',{'class':'chart-element__rank flex--column flex--xy-center flex--no-shrink'})[0].text.split('\\n')[2] for status in soup.find('ol',{'class':'chart-list__elements'}).find_all('button')]\n",
    "    zipped_results = zip(current_rank,singles,artists,current_status,last_week,peak_rank,duration)\n",
    "    bb100 = pd.DataFrame(zipped_results,columns=['Rank','Single','Artist','Status','Last Week','Peak','Duration']).set_index('Rank')\n",
    "    top10 = bb100.head(10)\n",
    "    return top10"
   ]
  },
  {
   "cell_type": "code",
   "execution_count": 8,
   "metadata": {},
   "outputs": [
    {
     "name": "stdout",
     "output_type": "stream",
     "text": [
      "Enter a date with the format YYYY-MM-DD ---**If recent chart, just hit enter without a date: 1996-06-07\n"
     ]
    },
    {
     "data": {
      "text/html": [
       "<div>\n",
       "<style scoped>\n",
       "    .dataframe tbody tr th:only-of-type {\n",
       "        vertical-align: middle;\n",
       "    }\n",
       "\n",
       "    .dataframe tbody tr th {\n",
       "        vertical-align: top;\n",
       "    }\n",
       "\n",
       "    .dataframe thead th {\n",
       "        text-align: right;\n",
       "    }\n",
       "</style>\n",
       "<table border=\"1\" class=\"dataframe\">\n",
       "  <thead>\n",
       "    <tr style=\"text-align: right;\">\n",
       "      <th></th>\n",
       "      <th>Single</th>\n",
       "      <th>Artist</th>\n",
       "      <th>Status</th>\n",
       "      <th>Last Week</th>\n",
       "      <th>Peak</th>\n",
       "      <th>Duration</th>\n",
       "    </tr>\n",
       "    <tr>\n",
       "      <th>Rank</th>\n",
       "      <th></th>\n",
       "      <th></th>\n",
       "      <th></th>\n",
       "      <th></th>\n",
       "      <th></th>\n",
       "      <th></th>\n",
       "    </tr>\n",
       "  </thead>\n",
       "  <tbody>\n",
       "    <tr>\n",
       "      <th>1</th>\n",
       "      <td>Tha Crossroads</td>\n",
       "      <td>Bone Thugs-N-Harmony</td>\n",
       "      <td>Steady</td>\n",
       "      <td>1</td>\n",
       "      <td>1</td>\n",
       "      <td>5</td>\n",
       "    </tr>\n",
       "    <tr>\n",
       "      <th>2</th>\n",
       "      <td>Always Be My Baby</td>\n",
       "      <td>Mariah Carey</td>\n",
       "      <td>Steady</td>\n",
       "      <td>2</td>\n",
       "      <td>1</td>\n",
       "      <td>10</td>\n",
       "    </tr>\n",
       "    <tr>\n",
       "      <th>3</th>\n",
       "      <td>Because You Loved Me (From \"Up Close &amp; Personal\")</td>\n",
       "      <td>Celine Dion</td>\n",
       "      <td>Steady</td>\n",
       "      <td>3</td>\n",
       "      <td>1</td>\n",
       "      <td>14</td>\n",
       "    </tr>\n",
       "    <tr>\n",
       "      <th>4</th>\n",
       "      <td>Give Me One Reason</td>\n",
       "      <td>Tracy Chapman</td>\n",
       "      <td>Rising</td>\n",
       "      <td>5</td>\n",
       "      <td>4</td>\n",
       "      <td>10</td>\n",
       "    </tr>\n",
       "    <tr>\n",
       "      <th>5</th>\n",
       "      <td>You're The One</td>\n",
       "      <td>SWV</td>\n",
       "      <td>Rising</td>\n",
       "      <td>6</td>\n",
       "      <td>5</td>\n",
       "      <td>8</td>\n",
       "    </tr>\n",
       "    <tr>\n",
       "      <th>6</th>\n",
       "      <td>Nobody Knows</td>\n",
       "      <td>The Tony Rich Project</td>\n",
       "      <td>Failing</td>\n",
       "      <td>4</td>\n",
       "      <td>2</td>\n",
       "      <td>26</td>\n",
       "    </tr>\n",
       "    <tr>\n",
       "      <th>7</th>\n",
       "      <td>You're Makin' Me High/Let It Flow</td>\n",
       "      <td>Toni Braxton</td>\n",
       "      <td>New</td>\n",
       "      <td>-</td>\n",
       "      <td>7</td>\n",
       "      <td>1</td>\n",
       "    </tr>\n",
       "    <tr>\n",
       "      <th>8</th>\n",
       "      <td>Fastlove</td>\n",
       "      <td>George Michael</td>\n",
       "      <td>Steady</td>\n",
       "      <td>8</td>\n",
       "      <td>8</td>\n",
       "      <td>5</td>\n",
       "    </tr>\n",
       "    <tr>\n",
       "      <th>9</th>\n",
       "      <td>Ironic</td>\n",
       "      <td>Alanis Morissette</td>\n",
       "      <td>Failing</td>\n",
       "      <td>7</td>\n",
       "      <td>4</td>\n",
       "      <td>13</td>\n",
       "    </tr>\n",
       "    <tr>\n",
       "      <th>10</th>\n",
       "      <td>Until It Sleeps</td>\n",
       "      <td>Metallica</td>\n",
       "      <td>New</td>\n",
       "      <td>-</td>\n",
       "      <td>10</td>\n",
       "      <td>1</td>\n",
       "    </tr>\n",
       "  </tbody>\n",
       "</table>\n",
       "</div>"
      ],
      "text/plain": [
       "                                                 Single  \\\n",
       "Rank                                                      \n",
       "1                                        Tha Crossroads   \n",
       "2                                     Always Be My Baby   \n",
       "3     Because You Loved Me (From \"Up Close & Personal\")   \n",
       "4                                    Give Me One Reason   \n",
       "5                                        You're The One   \n",
       "6                                          Nobody Knows   \n",
       "7                     You're Makin' Me High/Let It Flow   \n",
       "8                                              Fastlove   \n",
       "9                                                Ironic   \n",
       "10                                      Until It Sleeps   \n",
       "\n",
       "                     Artist   Status Last Week Peak Duration  \n",
       "Rank                                                          \n",
       "1      Bone Thugs-N-Harmony   Steady         1    1        5  \n",
       "2              Mariah Carey   Steady         2    1       10  \n",
       "3               Celine Dion   Steady         3    1       14  \n",
       "4             Tracy Chapman   Rising         5    4       10  \n",
       "5                       SWV   Rising         6    5        8  \n",
       "6     The Tony Rich Project  Failing         4    2       26  \n",
       "7              Toni Braxton      New         -    7        1  \n",
       "8            George Michael   Steady         8    8        5  \n",
       "9         Alanis Morissette  Failing         7    4       13  \n",
       "10                Metallica      New         -   10        1  "
      ]
     },
     "execution_count": 8,
     "metadata": {},
     "output_type": "execute_result"
    }
   ],
   "source": [
    "billboardhot100()"
   ]
  },
  {
   "cell_type": "code",
   "execution_count": null,
   "metadata": {},
   "outputs": [],
   "source": []
  }
 ],
 "metadata": {
  "kernelspec": {
   "display_name": "Python 3",
   "language": "python",
   "name": "python3"
  },
  "language_info": {
   "codemirror_mode": {
    "name": "ipython",
    "version": 3
   },
   "file_extension": ".py",
   "mimetype": "text/x-python",
   "name": "python",
   "nbconvert_exporter": "python",
   "pygments_lexer": "ipython3",
   "version": "3.7.6"
  }
 },
 "nbformat": 4,
 "nbformat_minor": 4
}
